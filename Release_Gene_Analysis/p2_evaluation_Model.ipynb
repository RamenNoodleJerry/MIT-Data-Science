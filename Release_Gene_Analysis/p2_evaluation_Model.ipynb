{
 "cells": [
  {
   "cell_type": "code",
   "execution_count": 373,
   "id": "2c7045cb",
   "metadata": {},
   "outputs": [],
   "source": [
    "import numpy as np\n",
    "import pandas as pd\n",
    "from sklearn.decomposition import PCA\n",
    "import matplotlib.pyplot as plt\n",
    "from sklearn.manifold import MDS\n",
    "from sklearn.manifold import TSNE\n",
    "from sklearn.cluster import KMeans\n",
    "from sklearn.linear_model import LogisticRegression"
   ]
  },
  {
   "cell_type": "code",
   "execution_count": 374,
   "id": "322c4418",
   "metadata": {},
   "outputs": [],
   "source": [
    "#read our list\n",
    "df = pd.read_csv('List.csv')\n",
    "dflist = df.values.tolist()\n",
    "#need to iterate through to remove square bracket in every elements\n",
    "dflist = [i[0] for i in dflist]"
   ]
  },
  {
   "cell_type": "code",
   "execution_count": 375,
   "id": "7c3c9841",
   "metadata": {},
   "outputs": [],
   "source": [
    "X1 = np.load('X_train.npy')\n",
    "X2 = np.load('X_test.npy')"
   ]
  },
  {
   "cell_type": "code",
   "execution_count": 376,
   "id": "55d019d5",
   "metadata": {},
   "outputs": [],
   "source": [
    "X_train = X1[:,dflist]\n",
    "X_test = X2[:,dflist]"
   ]
  },
  {
   "cell_type": "code",
   "execution_count": 377,
   "id": "545e55eb",
   "metadata": {},
   "outputs": [],
   "source": [
    "Y_train = np.load('Y_train.npy')\n",
    "Y_test = np.load('Y_test.npy')"
   ]
  },
  {
   "cell_type": "code",
   "execution_count": 378,
   "id": "a82d4fb9",
   "metadata": {},
   "outputs": [],
   "source": [
    "#log normalize data\n",
    "X_train=np.log2(X_train+1)\n",
    "X_test=np.log2(X_test+1)\n",
    "Y_train=np.log2(Y_train+1)\n",
    "Y_test=np.log2(Y_test+1)"
   ]
  },
  {
   "cell_type": "code",
   "execution_count": 379,
   "id": "b30b9891",
   "metadata": {},
   "outputs": [],
   "source": [
    "from sklearn import preprocessing\n",
    "from sklearn import utils\n",
    "#fit transform continuous to categorical\n",
    "lab = preprocessing.LabelEncoder()\n",
    "Y_train_T = lab.fit_transform(Y_train)\n",
    "Y_test_T = lab.fit_transform(Y_test)"
   ]
  },
  {
   "cell_type": "markdown",
   "id": "f3c6b2ab",
   "metadata": {},
   "source": [
    "## Our method"
   ]
  },
  {
   "cell_type": "code",
   "execution_count": 380,
   "id": "52aacb97",
   "metadata": {},
   "outputs": [
    {
     "data": {
      "text/plain": [
       "0.8276173285198556"
      ]
     },
     "execution_count": 380,
     "metadata": {},
     "output_type": "execute_result"
    }
   ],
   "source": [
    "lm = LogisticRegression(multi_class='ovr', solver='liblinear',penalty='l2')\n",
    "lm.fit(X_train, Y_train_T)\n",
    "lm.predict(X_test)\n",
    "lm.score(X_test, Y_test_T)"
   ]
  },
  {
   "cell_type": "markdown",
   "id": "0b4a4d7e",
   "metadata": {},
   "source": [
    "## Random Selection Model"
   ]
  },
  {
   "cell_type": "code",
   "execution_count": 381,
   "id": "ab16d628",
   "metadata": {},
   "outputs": [],
   "source": [
    "import random\n",
    "n = random.sample(range(1, 45768), 100)"
   ]
  },
  {
   "cell_type": "code",
   "execution_count": 382,
   "id": "e081e589",
   "metadata": {},
   "outputs": [],
   "source": [
    "X_train_R = X1[:,n]\n",
    "X_test_R = X2[:,n]\n",
    "X_train_R=np.log2(X_train_R+1)\n",
    "X_test_R=np.log2(X_test_R+1)"
   ]
  },
  {
   "cell_type": "code",
   "execution_count": 383,
   "id": "00570fa7",
   "metadata": {},
   "outputs": [
    {
     "data": {
      "text/plain": [
       "0.4043321299638989"
      ]
     },
     "execution_count": 383,
     "metadata": {},
     "output_type": "execute_result"
    }
   ],
   "source": [
    "lm = LogisticRegression(multi_class='ovr', solver='liblinear',penalty='l2')\n",
    "lm.fit(X_train_R, Y_train_T)\n",
    "lm.predict(X_test)\n",
    "lm.score(X_test_R, Y_test_T)"
   ]
  },
  {
   "cell_type": "markdown",
   "id": "85c7aed1",
   "metadata": {},
   "source": [
    "## High Variance Model"
   ]
  },
  {
   "cell_type": "code",
   "execution_count": 384,
   "id": "15e52909",
   "metadata": {},
   "outputs": [],
   "source": [
    "#Find Highest Variance Columns\n",
    "df = pd.DataFrame(X1)\n",
    "A = df.var().sort_values(ascending=False)\n",
    "A = A.iloc[0:100]\n",
    "Alist = list(A.index)"
   ]
  },
  {
   "cell_type": "code",
   "execution_count": 385,
   "id": "cf09a485",
   "metadata": {},
   "outputs": [],
   "source": [
    "X_train_H = X1[:,Alist]\n",
    "X_test_H = X2[:,Alist]\n",
    "X_train_H = np.log2(X_train_H+1)\n",
    "X_test_H = np.log2(X_test_H+1)"
   ]
  },
  {
   "cell_type": "code",
   "execution_count": 386,
   "id": "2ac4007e",
   "metadata": {},
   "outputs": [
    {
     "data": {
      "text/plain": [
       "0.8935018050541517"
      ]
     },
     "execution_count": 386,
     "metadata": {},
     "output_type": "execute_result"
    }
   ],
   "source": [
    "lm = LogisticRegression(multi_class='ovr', solver='liblinear',penalty='l2')\n",
    "lm.fit(X_train_H, Y_train_T)\n",
    "lm.predict(X_test_H)\n",
    "lm.score(X_test_H, Y_test_T)"
   ]
  },
  {
   "cell_type": "markdown",
   "id": "98dc78c6",
   "metadata": {},
   "source": [
    "## Comparison"
   ]
  },
  {
   "cell_type": "code",
   "execution_count": 387,
   "id": "4784cf70",
   "metadata": {},
   "outputs": [
    {
     "data": {
      "text/html": [
       "<div>\n",
       "<style scoped>\n",
       "    .dataframe tbody tr th:only-of-type {\n",
       "        vertical-align: middle;\n",
       "    }\n",
       "\n",
       "    .dataframe tbody tr th {\n",
       "        vertical-align: top;\n",
       "    }\n",
       "\n",
       "    .dataframe thead th {\n",
       "        text-align: right;\n",
       "    }\n",
       "</style>\n",
       "<table border=\"1\" class=\"dataframe\">\n",
       "  <thead>\n",
       "    <tr style=\"text-align: right;\">\n",
       "      <th></th>\n",
       "      <th>Our Method</th>\n",
       "      <th>Random Selection</th>\n",
       "      <th>High Variance</th>\n",
       "    </tr>\n",
       "  </thead>\n",
       "  <tbody>\n",
       "    <tr>\n",
       "      <th>0</th>\n",
       "      <td>0.8276</td>\n",
       "      <td>0.4161</td>\n",
       "      <td>0.8935</td>\n",
       "    </tr>\n",
       "  </tbody>\n",
       "</table>\n",
       "</div>"
      ],
      "text/plain": [
       "   Our Method  Random Selection  High Variance\n",
       "0      0.8276            0.4161         0.8935"
      ]
     },
     "execution_count": 387,
     "metadata": {},
     "output_type": "execute_result"
    }
   ],
   "source": [
    "R = {'Our Method':[0.8276],'Random Selection':[0.4161],'High Variance':[0.8935]}\n",
    "R = pd.DataFrame(R)\n",
    "R"
   ]
  },
  {
   "cell_type": "code",
   "execution_count": 388,
   "id": "d9a0dec1",
   "metadata": {},
   "outputs": [],
   "source": [
    "df1 = df[dflist]\n",
    "df2 = df[Alist]"
   ]
  },
  {
   "cell_type": "code",
   "execution_count": 389,
   "id": "a24f29ee",
   "metadata": {},
   "outputs": [],
   "source": [
    "df1var = df1.var()\n",
    "df2var = df2.var()"
   ]
  },
  {
   "cell_type": "code",
   "execution_count": 390,
   "id": "289886ad",
   "metadata": {
    "scrolled": true
   },
   "outputs": [
    {
     "data": {
      "image/png": "[encoded data removed]",
      "text/plain": [
       "<Figure size 432x288 with 1 Axes>"
      ]
     },
     "metadata": {
      "needs_background": "light"
     },
     "output_type": "display_data"
    }
   ],
   "source": [
    "from matplotlib import pyplot\n",
    "\n",
    "pyplot.hist(df1var, bins = 100, alpha=0.5, label='Our Model')\n",
    "pyplot.hist(df2var, bins = 100, alpha=0.5, label='High Variance')\n",
    "pyplot.xlim([0, 1e7])\n",
    "pyplot.legend(loc='upper right')\n",
    "pyplot.show()"
   ]
  },
  {
   "cell_type": "code",
   "execution_count": 395,
   "id": "bb340508",
   "metadata": {},
   "outputs": [
    {
     "data": {
      "text/plain": [
       "0.8276173285198556"
      ]
     },
     "execution_count": 395,
     "metadata": {},
     "output_type": "execute_result"
    }
   ],
   "source": [
    "lm = LogisticRegression(multi_class='ovr', solver='liblinear',penalty='l2')\n",
    "lm.fit(X_train, Y_train_T)\n",
    "lm.score(X_test, Y_test_T)"
   ]
  },
  {
   "cell_type": "code",
   "execution_count": 396,
   "id": "b8fb6786",
   "metadata": {
    "scrolled": true
   },
   "outputs": [
    {
     "data": {
      "text/plain": [
       "0.8240072202166066"
      ]
     },
     "execution_count": 396,
     "metadata": {},
     "output_type": "execute_result"
    }
   ],
   "source": [
    "lm = LogisticRegression(multi_class='ovr', solver='liblinear',penalty='l1')\n",
    "lm.fit(X_train, Y_train_T)\n",
    "lm.score(X_test, Y_test_T)"
   ]
  }
 ],
 "metadata": {
  "kernelspec": {
   "display_name": "Python 3 (ipykernel)",
   "language": "python",
   "name": "python3"
  },
  "language_info": {
   "codemirror_mode": {
    "name": "ipython",
    "version": 3
   },
   "file_extension": ".py",
   "mimetype": "text/x-python",
   "name": "python",
   "nbconvert_exporter": "python",
   "pygments_lexer": "ipython3",
   "version": "3.9.12"
  }
 },
 "nbformat": 4,
 "nbformat_minor": 5
}
